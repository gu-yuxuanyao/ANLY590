{
 "cells": [
  {
   "cell_type": "markdown",
   "metadata": {},
   "source": [
    "# Final Project - LSTM"
   ]
  },
  {
   "cell_type": "markdown",
   "metadata": {},
   "source": [
    "**Course**: ANLY590\n",
    "\n",
    "**Group Members**: Yuan Liu, Guiming Xu, Kuiyu Zhu, Yuxuan Yao\n",
    "\n",
    "**NetID**: yl1130,gx26, kz175, yy560"
   ]
  },
  {
   "cell_type": "markdown",
   "metadata": {},
   "source": [
    "**Dataset**: https://www.kaggle.com/cse0031/speech-representation-and-data-exploration\n",
    "\n",
    "The dataset contains information files and a folder of audio files. The labels that we need to predict in tests are Yes, No, Up, Down, Left, Right, On, Off, Stop, Go, and everything else should be considered either unknown or silent."
   ]
  },
  {
   "cell_type": "markdown",
   "metadata": {},
   "source": [
    "This notebook is for the LSTM training and simple prediction and recognition of audio files."
   ]
  },
  {
   "cell_type": "markdown",
   "metadata": {},
   "source": [
    "### Import Packages"
   ]
  },
  {
   "cell_type": "code",
   "execution_count": 2,
   "metadata": {},
   "outputs": [],
   "source": [
    "import os\n",
    "import librosa   #for audio processing\n",
    "import IPython.display as ipd\n",
    "import matplotlib.pyplot as plt\n",
    "import numpy as np\n",
    "from scipy.io import wavfile #for audio processing\n",
    "import warnings\n",
    "warnings.filterwarnings(\"ignore\")\n",
    "from sklearn.preprocessing import LabelEncoder\n",
    "from keras.layers import Dense, Dropout, Flatten, Conv1D, Conv2D, MaxPooling2D, Input, MaxPooling1D, Activation,BatchNormalization, Reshape, TimeDistributed\n",
    "from keras.models import Model, Sequential\n",
    "from keras.layers.recurrent import LSTM\n",
    "from keras.optimizers import Adam\n",
    "from keras.callbacks import EarlyStopping, ModelCheckpoint\n",
    "from keras import backend as K\n",
    "from matplotlib import pyplot \n",
    "import random\n",
    "import soundfile as sf"
   ]
  },
  {
   "cell_type": "code",
   "execution_count": 3,
   "metadata": {},
   "outputs": [],
   "source": [
    "train_audio_path = 'D:/590/final_project/train/audio/'\n",
    "samples, sample_rate = librosa.load(train_audio_path+'yes/0a7c2a8d_nohash_0.wav', sr = 16000)"
   ]
  },
  {
   "cell_type": "code",
   "execution_count": 4,
   "metadata": {},
   "outputs": [
    {
     "data": {
      "text/plain": [
       "array([ 0.00042725, -0.00021362, -0.00042725, ...,  0.00057983,\n",
       "        0.00061035,  0.00082397], dtype=float32)"
      ]
     },
     "execution_count": 4,
     "metadata": {},
     "output_type": "execute_result"
    }
   ],
   "source": [
    "samples"
   ]
  },
  {
   "cell_type": "code",
   "execution_count": 5,
   "metadata": {},
   "outputs": [
    {
     "data": {
      "text/plain": [
       "16000"
      ]
     },
     "execution_count": 5,
     "metadata": {},
     "output_type": "execute_result"
    }
   ],
   "source": [
    "sample_rate"
   ]
  },
  {
   "cell_type": "code",
   "execution_count": 6,
   "metadata": {},
   "outputs": [
    {
     "name": "stdout",
     "output_type": "stream",
     "text": [
      "16000\n"
     ]
    }
   ],
   "source": [
    "ipd.Audio(samples, rate=sample_rate)\n",
    "print(sample_rate)"
   ]
  },
  {
   "cell_type": "markdown",
   "metadata": {},
   "source": [
    "As we can see, the audio file is transforming to a 1D array. And the rate of sample is 16000.\n",
    "\n",
    "In that case, we think about downsampling, which can reduce computing time."
   ]
  },
  {
   "cell_type": "code",
   "execution_count": 7,
   "metadata": {},
   "outputs": [
    {
     "data": {
      "text/html": [
       "\n",
       "                <audio  controls=\"controls\" >\n",
       "                    <source src=\"data:audio/wav;base64,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\" type=\"audio/wav\" />\n",
       "                    Your browser does not support the audio element.\n",
       "                </audio>\n",
       "              "
      ],
      "text/plain": [
       "<IPython.lib.display.Audio object>"
      ]
     },
     "execution_count": 7,
     "metadata": {},
     "output_type": "execute_result"
    }
   ],
   "source": [
    "samples = librosa.resample(samples, sample_rate, 8000)\n",
    "ipd.Audio(samples, rate=8000)"
   ]
  },
  {
   "cell_type": "markdown",
   "metadata": {},
   "source": [
    "Listening to the audio file, we can hear \"yes\" clearly."
   ]
  },
  {
   "cell_type": "markdown",
   "metadata": {},
   "source": [
    "**Due to github's restrictions on dataset size, it is not possible to upload our dataset. So this audio cannot be displayed here.**"
   ]
  },
  {
   "cell_type": "code",
   "execution_count": 8,
   "metadata": {},
   "outputs": [],
   "source": [
    "labels=os.listdir(train_audio_path)\n",
    "\n",
    "temp=[]\n",
    "for label in labels:\n",
    "    waves = [f for f in os.listdir(train_audio_path + '/'+ label) if f.endswith('.wav')]\n",
    "    temp.append(len(waves))\n",
    "    \n",
    "labels=[\"yes\", \"no\", \"up\", \"down\", \"left\", \"right\", \"on\", \"off\", \"stop\", \"go\", \"wow\", \"house\", \"happy\", \"tree\", \"dog\", \"cat\", \"bird\", \n",
    "        \"one\", \"two\", \"three\", \"four\", \"five\", \"six\", \"seven\", \"eight\", \"nine\"]"
   ]
  },
  {
   "cell_type": "code",
   "execution_count": 9,
   "metadata": {},
   "outputs": [],
   "source": [
    "temp=[]\n",
    "for label in labels:\n",
    "    waves = [f for f in os.listdir(train_audio_path + '/'+ label) if f.endswith('.wav')]\n",
    "    for wav in waves:\n",
    "        sample_rate, samples = wavfile.read(train_audio_path + '/' + label + '/' + wav)\n",
    "        temp.append(float(len(samples)/sample_rate))"
   ]
  },
  {
   "cell_type": "markdown",
   "metadata": {},
   "source": [
    "Before modeling, we should downsample all audio files."
   ]
  },
  {
   "cell_type": "code",
   "execution_count": 10,
   "metadata": {
    "scrolled": true
   },
   "outputs": [
    {
     "name": "stdout",
     "output_type": "stream",
     "text": [
      "yes\n",
      "no\n",
      "up\n",
      "down\n",
      "left\n",
      "right\n",
      "on\n",
      "off\n",
      "stop\n",
      "go\n",
      "wow\n",
      "house\n",
      "happy\n",
      "tree\n",
      "dog\n",
      "cat\n",
      "bird\n",
      "one\n",
      "two\n",
      "three\n",
      "four\n",
      "five\n",
      "six\n",
      "seven\n",
      "eight\n",
      "nine\n"
     ]
    }
   ],
   "source": [
    "train_audio_path = 'D:/590/final_project/train/audio/'\n",
    "audios = []\n",
    "allLabel = []\n",
    "for label in labels:\n",
    "    print(label)\n",
    "    waves = [f for f in os.listdir(train_audio_path + '/'+ label) if f.endswith('.wav')]\n",
    "    for wav in waves:\n",
    "        samples, sample_rate = librosa.load(train_audio_path + '/' + label + '/' + wav, sr = 16000)\n",
    "        samples = librosa.resample(samples, sample_rate, 8000)\n",
    "        if(len(samples)== 8000) : \n",
    "            audios.append(samples)\n",
    "            allLabel.append(label)"
   ]
  },
  {
   "cell_type": "markdown",
   "metadata": {},
   "source": [
    "Encoder labels"
   ]
  },
  {
   "cell_type": "code",
   "execution_count": 11,
   "metadata": {},
   "outputs": [],
   "source": [
    "le = LabelEncoder()\n",
    "y=le.fit_transform(allLabel)\n",
    "classes= list(le.classes_)\n",
    "from keras.utils import np_utils\n",
    "y=np_utils.to_categorical(y, num_classes=len(labels))\n",
    "audios = np.array(audios).reshape(-1,8000,1)"
   ]
  },
  {
   "cell_type": "markdown",
   "metadata": {},
   "source": [
    "### Modeling"
   ]
  },
  {
   "cell_type": "markdown",
   "metadata": {},
   "source": [
    "Split train and test sets"
   ]
  },
  {
   "cell_type": "code",
   "execution_count": 12,
   "metadata": {},
   "outputs": [],
   "source": [
    "from sklearn.model_selection import train_test_split\n",
    "x_train, x_val, y_train, y_val = train_test_split(np.array(audios),np.array(y),stratify=y,test_size = 0.2,random_state=777,shuffle=True)"
   ]
  },
  {
   "cell_type": "code",
   "execution_count": 13,
   "metadata": {},
   "outputs": [
    {
     "name": "stdout",
     "output_type": "stream",
     "text": [
      "Model: \"functional_1\"\n",
      "_________________________________________________________________\n",
      "Layer (type)                 Output Shape              Param #   \n",
      "=================================================================\n",
      "input_1 (InputLayer)         [(None, 8000, 1)]         0         \n",
      "_________________________________________________________________\n",
      "conv1d (Conv1D)              (None, 8000, 8)           112       \n",
      "_________________________________________________________________\n",
      "max_pooling1d (MaxPooling1D) (None, 7999, 8)           0         \n",
      "_________________________________________________________________\n",
      "batch_normalization (BatchNo (None, 7999, 8)           32        \n",
      "_________________________________________________________________\n",
      "conv1d_1 (Conv1D)            (None, 7999, 16)          1424      \n",
      "_________________________________________________________________\n",
      "batch_normalization_1 (Batch (None, 7999, 16)          64        \n",
      "_________________________________________________________________\n",
      "conv1d_2 (Conv1D)            (None, 7999, 32)          4640      \n",
      "_________________________________________________________________\n",
      "max_pooling1d_1 (MaxPooling1 (None, 7998, 32)          0         \n",
      "_________________________________________________________________\n",
      "batch_normalization_2 (Batch (None, 7998, 32)          128       \n",
      "_________________________________________________________________\n",
      "lstm (LSTM)                  (None, 7998, 32)          8320      \n",
      "_________________________________________________________________\n",
      "lstm_1 (LSTM)                (None, 7998, 32)          8320      \n",
      "_________________________________________________________________\n",
      "dense (Dense)                (None, 7998, 128)         4224      \n",
      "_________________________________________________________________\n",
      "time_distributed (TimeDistri (None, 7998, 64)          8256      \n",
      "_________________________________________________________________\n",
      "activation (Activation)      (None, 7998, 64)          0         \n",
      "_________________________________________________________________\n",
      "flatten (Flatten)            (None, 511872)            0         \n",
      "_________________________________________________________________\n",
      "dense_2 (Dense)              (None, 26)                13308698  \n",
      "_________________________________________________________________\n",
      "activation_1 (Activation)    (None, 26)                0         \n",
      "=================================================================\n",
      "Total params: 13,344,218\n",
      "Trainable params: 13,344,106\n",
      "Non-trainable params: 112\n",
      "_________________________________________________________________\n"
     ]
    }
   ],
   "source": [
    "model = Sequential()\n",
    "inputs = Input(shape=(8000,1))\n",
    "\n",
    "x = Conv1D(8,13, padding='same', activation='relu', strides=1)(inputs)\n",
    "x = MaxPooling1D(strides =1)(x)\n",
    "x = BatchNormalization()(x)\n",
    "\n",
    "x = Conv1D(16,11, padding='same', activation='relu', strides=1)(x)\n",
    "x = BatchNormalization()(x)\n",
    "\n",
    "x = Conv1D(32,9, padding='same', activation='relu', strides=1)(x)\n",
    "x = MaxPooling1D(strides =1)(x)\n",
    "x = BatchNormalization()(x)\n",
    "\n",
    "# x = Conv1D(64,7, padding='same', activation='relu', strides=1)(x)\n",
    "# x = BatchNormalization()(x)\n",
    "\n",
    "#x = Reshape(12, 10)(x)\n",
    "\n",
    "x = LSTM(32, return_sequences = True)(x)\n",
    "x = LSTM(32, return_sequences = True)(x)\n",
    "\n",
    "x = Dense(128)(x)\n",
    "x = TimeDistributed(Dense(64))(x)\n",
    "x = Activation('relu')(x)\n",
    "x = Flatten()(x)\n",
    "x = Dense(len(labels))(x)\n",
    "outputs = Activation('softmax')(x)\n",
    "\n",
    "adam = Adam(lr=0.001, beta_1=0.9, beta_2=0.999, epsilon=1e-08, decay=0.0)\n",
    "model  = Model(inputs, outputs)\n",
    "model.summary()"
   ]
  },
  {
   "cell_type": "code",
   "execution_count": 15,
   "metadata": {},
   "outputs": [],
   "source": [
    "model.compile(loss=\"categorical_crossentropy\", optimizer = adam, metrics = ['accuracy'])"
   ]
  },
  {
   "cell_type": "code",
   "execution_count": 16,
   "metadata": {},
   "outputs": [
    {
     "name": "stdout",
     "output_type": "stream",
     "text": [
      "1286/1286 [==============================] - 15435s 12s/step - loss: 2.3829 - accuracy: 0.3192 - val_loss: 1.9989 - val_accuracy: 0.4261\n"
     ]
    }
   ],
   "source": [
    "#es = EarlyStopping(monitor='val_loss', mode='min', verbose=1, patience=10, min_delta=0.0001) \n",
    "#mc = ModelCheckpoint('best_model.hdf5', monitor='val_acc', verbose=1, save_best_only=True, mode='max')\n",
    "history = model.fit(x_train, y_train ,epochs=1, batch_size=32, validation_data=(x_val,y_val))"
   ]
  },
  {
   "cell_type": "markdown",
   "metadata": {},
   "source": [
    "### Results"
   ]
  },
  {
   "cell_type": "code",
   "execution_count": 17,
   "metadata": {},
   "outputs": [
    {
     "name": "stdout",
     "output_type": "stream",
     "text": [
      "322/322 [==============================] - 298s 925ms/step - loss: 1.9989 - accuracy: 0.4261\n",
      "The test accuracy: 0.42608442902565\n"
     ]
    }
   ],
   "source": [
    "# plt.plot(history.history['accuracy'])\n",
    "# plt.plot(history.history['val_accuracy'])\n",
    "# plt.title('LSTM model accuracy')\n",
    "# plt.ylabel('accuracy')\n",
    "# plt.xlabel('epoch')\n",
    "# plt.legend(['train', 'test'], loc='bottom right')\n",
    "# plt.show()\n",
    "\n",
    "# plt.plot(history.history['loss'])\n",
    "# plt.plot(history.history['val_loss'])\n",
    "# plt.title('LSTM model loss')\n",
    "# plt.ylabel('loss')\n",
    "# plt.xlabel('epoch')\n",
    "# plt.legend(['train', 'test'], loc='upper right')\n",
    "# plt.show()\n",
    "score = model.evaluate(x_val, y_val, verbose=1)\n",
    "print(\"The test accuracy: {acc}\".format(acc = score[1]))"
   ]
  }
 ],
 "metadata": {
  "kernelspec": {
   "display_name": "Python 3",
   "language": "python",
   "name": "python3"
  },
  "language_info": {
   "codemirror_mode": {
    "name": "ipython",
    "version": 3
   },
   "file_extension": ".py",
   "mimetype": "text/x-python",
   "name": "python",
   "nbconvert_exporter": "python",
   "pygments_lexer": "ipython3",
   "version": "3.8.3"
  }
 },
 "nbformat": 4,
 "nbformat_minor": 4
}

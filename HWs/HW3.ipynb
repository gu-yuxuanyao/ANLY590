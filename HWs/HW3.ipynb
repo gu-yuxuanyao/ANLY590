{
 "cells": [
  {
   "cell_type": "code",
   "execution_count": 17,
   "metadata": {},
   "outputs": [],
   "source": [
    "from keras.datasets import cifar10\n",
    "import tensorflow_datasets as tfds\n",
    "from tensorflow.keras.applications import VGG16\n",
    "import tensorflow as tf\n",
    "import tensorflow.keras as tfk\n",
    "import tensorflow.keras.layers as tfkl\n",
    "from tensorflow.keras.models import Sequential\n",
    "import keras\n",
    "from keras import layers\n",
    "from keras.preprocessing.text import Tokenizer\n",
    "from keras.preprocessing import sequence\n",
    "from keras.callbacks import TensorBoard\n",
    "from keras.models import Model\n",
    "from keras import backend as K\n",
    "from keras.utils import np_utils\n",
    "from keras.optimizers import Adam\n",
    "from keras.layers import Input, Dense, Flatten, Dropout, Conv2D, MaxPooling2D, LeakyReLU, LSTM, UpSampling2D\n",
    "import matplotlib.pyplot as plt\n",
    "import numpy as np\n",
    "import pandas as pd\n",
    "from sklearn.model_selection import ShuffleSplit\n",
    "from sklearn.model_selection import train_test_split\n",
    "from sklearn.metrics import roc_auc_score\n",
    "from sklearn.metrics import roc_curve\n",
    "import sklearn.metrics as metrics\n",
    "tfkl = tfk.layers"
   ]
  },
  {
   "cell_type": "markdown",
   "metadata": {},
   "source": [
    "# Autoencoder"
   ]
  },
  {
   "cell_type": "code",
   "execution_count": 10,
   "metadata": {},
   "outputs": [
    {
     "data": {
      "text/plain": [
       "(50000, 32, 32, 3)"
      ]
     },
     "execution_count": 10,
     "metadata": {},
     "output_type": "execute_result"
    }
   ],
   "source": [
    "# load data\n",
    "(trainX, trainY), (testX, testY)=cifar10.load_data()\n",
    "# view the  data shape\n",
    "trainX.shape"
   ]
  },
  {
   "cell_type": "code",
   "execution_count": 11,
   "metadata": {},
   "outputs": [
    {
     "data": {
      "text/plain": [
       "(50000, 1)"
      ]
     },
     "execution_count": 11,
     "metadata": {},
     "output_type": "execute_result"
    }
   ],
   "source": [
    "trainY.shape"
   ]
  },
  {
   "cell_type": "code",
   "execution_count": 12,
   "metadata": {},
   "outputs": [
    {
     "data": {
      "text/plain": [
       "(10000, 32, 32, 3)"
      ]
     },
     "execution_count": 12,
     "metadata": {},
     "output_type": "execute_result"
    }
   ],
   "source": [
    "testX.shape"
   ]
  },
  {
   "cell_type": "code",
   "execution_count": 13,
   "metadata": {},
   "outputs": [
    {
     "data": {
      "text/plain": [
       "(10000, 1)"
      ]
     },
     "execution_count": 13,
     "metadata": {},
     "output_type": "execute_result"
    }
   ],
   "source": [
    "testY.shape"
   ]
  },
  {
   "cell_type": "code",
   "execution_count": 14,
   "metadata": {},
   "outputs": [],
   "source": [
    "trainX=trainX.astype('float32')/255.0\n",
    "testX=testX.astype('float32')/255.0"
   ]
  },
  {
   "cell_type": "code",
   "execution_count": 21,
   "metadata": {},
   "outputs": [
    {
     "name": "stdout",
     "output_type": "stream",
     "text": [
      "Model: \"functional_1\"\n",
      "_________________________________________________________________\n",
      "Layer (type)                 Output Shape              Param #   \n",
      "=================================================================\n",
      "input_1 (InputLayer)         [(None, 32, 32, 3)]       0         \n",
      "_________________________________________________________________\n",
      "conv2d (Conv2D)              (None, 32, 32, 32)        896       \n",
      "_________________________________________________________________\n",
      "max_pooling2d (MaxPooling2D) (None, 16, 16, 32)        0         \n",
      "_________________________________________________________________\n",
      "conv2d_1 (Conv2D)            (None, 16, 16, 8)         2312      \n",
      "_________________________________________________________________\n",
      "max_pooling2d_1 (MaxPooling2 (None, 8, 8, 8)           0         \n",
      "_________________________________________________________________\n",
      "conv2d_2 (Conv2D)            (None, 8, 8, 8)           584       \n",
      "_________________________________________________________________\n",
      "max_pooling2d_2 (MaxPooling2 (None, 4, 4, 8)           0         \n",
      "_________________________________________________________________\n",
      "conv2d_3 (Conv2D)            (None, 4, 4, 8)           584       \n",
      "_________________________________________________________________\n",
      "up_sampling2d (UpSampling2D) (None, 8, 8, 8)           0         \n",
      "_________________________________________________________________\n",
      "conv2d_4 (Conv2D)            (None, 8, 8, 8)           584       \n",
      "_________________________________________________________________\n",
      "up_sampling2d_1 (UpSampling2 (None, 16, 16, 8)         0         \n",
      "_________________________________________________________________\n",
      "conv2d_5 (Conv2D)            (None, 16, 16, 32)        2336      \n",
      "_________________________________________________________________\n",
      "up_sampling2d_2 (UpSampling2 (None, 32, 32, 32)        0         \n",
      "_________________________________________________________________\n",
      "conv2d_6 (Conv2D)            (None, 32, 32, 3)         867       \n",
      "=================================================================\n",
      "Total params: 8,163\n",
      "Trainable params: 8,163\n",
      "Non-trainable params: 0\n",
      "_________________________________________________________________\n"
     ]
    }
   ],
   "source": [
    "# train\n",
    "input_img=Input(shape=(32,32,3))\n",
    "\n",
    "conv = Conv2D(filters=32, kernel_size=(3,3),padding=\"same\", activation='relu')(input_img)\n",
    "conv = MaxPooling2D((2, 2), padding='same')(conv)\n",
    "\n",
    "conv = Conv2D(8, kernel_size = (3, 3), activation='relu', padding='same')(conv)\n",
    "conv = MaxPooling2D((2, 2), padding='same')(conv)\n",
    "\n",
    "conv = Conv2D(8, kernel_size = (3, 3), activation='relu', padding='same')(conv)\n",
    "encoded = MaxPooling2D((2, 2), padding='same')(conv)\n",
    "\n",
    "conv = Conv2D(8, kernel_size =  (3, 3), activation='relu', padding='same')(encoded)\n",
    "conv = UpSampling2D((2, 2))(conv)\n",
    "\n",
    "conv = Conv2D(8, kernel_size = (3, 3), activation='relu', padding='same')(conv)\n",
    "conv = UpSampling2D((2, 2))(conv)\n",
    "\n",
    "conv = Conv2D(32, kernel_size = (3, 3), activation='relu',padding='same')(conv)\n",
    "conv = UpSampling2D((2, 2))(conv)\n",
    "\n",
    "output = Conv2D(3, kernel_size = (3, 3), activation='relu', padding='same')(conv)\n",
    "\n",
    "\n",
    "autoencoder = Model(input_img, output)\n",
    "autoencoder.compile(optimizer='adam', metrics=['accuracy'], loss='mean_squared_error')\n",
    "\n",
    "autoencoder.summary()\n"
   ]
  },
  {
   "cell_type": "code",
   "execution_count": 22,
   "metadata": {},
   "outputs": [
    {
     "name": "stdout",
     "output_type": "stream",
     "text": [
      "Epoch 1/10\n",
      "391/391 [==============================] - 54s 139ms/step - loss: 0.0348 - accuracy: 0.4146 - val_loss: 0.0203 - val_accuracy: 0.4398\n",
      "Epoch 2/10\n",
      "391/391 [==============================] - 54s 137ms/step - loss: 0.0189 - accuracy: 0.4780 - val_loss: 0.0169 - val_accuracy: 0.5869\n",
      "Epoch 3/10\n",
      "391/391 [==============================] - 54s 137ms/step - loss: 0.0159 - accuracy: 0.6025 - val_loss: 0.0152 - val_accuracy: 0.6247\n",
      "Epoch 4/10\n",
      "391/391 [==============================] - 54s 138ms/step - loss: 0.0149 - accuracy: 0.6188 - val_loss: 0.0147 - val_accuracy: 0.6257\n",
      "Epoch 5/10\n",
      "391/391 [==============================] - 53s 136ms/step - loss: 0.0143 - accuracy: 0.6256 - val_loss: 0.0140 - val_accuracy: 0.6313\n",
      "Epoch 6/10\n",
      "391/391 [==============================] - 53s 136ms/step - loss: 0.0138 - accuracy: 0.6308 - val_loss: 0.0137 - val_accuracy: 0.6303\n",
      "Epoch 7/10\n",
      "391/391 [==============================] - 54s 138ms/step - loss: 0.0135 - accuracy: 0.6342 - val_loss: 0.0134 - val_accuracy: 0.6457\n",
      "Epoch 8/10\n",
      "391/391 [==============================] - 54s 138ms/step - loss: 0.0132 - accuracy: 0.6373 - val_loss: 0.0133 - val_accuracy: 0.6399\n",
      "Epoch 9/10\n",
      "391/391 [==============================] - 54s 138ms/step - loss: 0.0130 - accuracy: 0.6394 - val_loss: 0.0128 - val_accuracy: 0.6353\n",
      "Epoch 10/10\n",
      "391/391 [==============================] - 53s 137ms/step - loss: 0.0127 - accuracy: 0.6411 - val_loss: 0.0127 - val_accuracy: 0.6502\n"
     ]
    },
    {
     "data": {
      "text/plain": [
       "<tensorflow.python.keras.callbacks.History at 0x18cb0cb3f10>"
      ]
     },
     "execution_count": 22,
     "metadata": {},
     "output_type": "execute_result"
    }
   ],
   "source": [
    "autoencoder.fit(trainX, trainX,\n",
    "                epochs=10,\n",
    "                batch_size=128,\n",
    "                shuffle=True,\n",
    "                validation_data=(testX, testX))"
   ]
  },
  {
   "cell_type": "code",
   "execution_count": 32,
   "metadata": {},
   "outputs": [
    {
     "name": "stderr",
     "output_type": "stream",
     "text": [
      "Clipping input data to the valid range for imshow with RGB data ([0..1] for floats or [0..255] for integers).\n"
     ]
    },
    {
     "data": {
      "image/png": "[encoded data removed]",
      "text/plain": [
       "<Figure size 1080x360 with 6 Axes>"
      ]
     },
     "metadata": {
      "needs_background": "light"
     },
     "output_type": "display_data"
    }
   ],
   "source": [
    "# compare before and after\n",
    "output_imgs = autoencoder.predict(testX)\n",
    "plt.figure(figsize=(15, 5))\n",
    "for i in range(1,4):\n",
    "    # befor\n",
    "    ax = plt.subplot(2, 5, i)\n",
    "    plt.imshow(testX[i])\n",
    "    ax.get_xaxis().set_visible(False)\n",
    "    ax.get_yaxis().set_visible(False)\n",
    "    # after\n",
    "    ax = plt.subplot(2, 5, i + 5)\n",
    "    plt.imshow(output_imgs[i])\n",
    "    ax.get_xaxis().set_visible(False)\n",
    "    ax.get_yaxis().set_visible(False)\n",
    "plt.show()"
   ]
  },
  {
   "cell_type": "markdown",
   "metadata": {},
   "source": [
    "# CNN"
   ]
  },
  {
   "cell_type": "code",
   "execution_count": 34,
   "metadata": {},
   "outputs": [
    {
     "name": "stdout",
     "output_type": "stream",
     "text": [
      "Model: \"sequential\"\n",
      "_________________________________________________________________\n",
      "Layer (type)                 Output Shape              Param #   \n",
      "=================================================================\n",
      "conv2d_7 (Conv2D)            (None, 32, 32, 128)       3584      \n",
      "_________________________________________________________________\n",
      "max_pooling2d_3 (MaxPooling2 (None, 11, 11, 128)       0         \n",
      "_________________________________________________________________\n",
      "conv2d_8 (Conv2D)            (None, 11, 11, 64)        32832     \n",
      "_________________________________________________________________\n",
      "max_pooling2d_4 (MaxPooling2 (None, 6, 6, 64)          0         \n",
      "_________________________________________________________________\n",
      "conv2d_9 (Conv2D)            (None, 6, 6, 32)          8224      \n",
      "_________________________________________________________________\n",
      "max_pooling2d_5 (MaxPooling2 (None, 3, 3, 32)          0         \n",
      "_________________________________________________________________\n",
      "dropout (Dropout)            (None, 3, 3, 32)          0         \n",
      "_________________________________________________________________\n",
      "dense (Dense)                (None, 3, 3, 64)          2112      \n",
      "_________________________________________________________________\n",
      "flatten (Flatten)            (None, 576)               0         \n",
      "_________________________________________________________________\n",
      "dense_1 (Dense)              (None, 10)                5770      \n",
      "=================================================================\n",
      "Total params: 52,522\n",
      "Trainable params: 52,522\n",
      "Non-trainable params: 0\n",
      "_________________________________________________________________\n"
     ]
    }
   ],
   "source": [
    "# deep CNN\n",
    "data, info = tfds.load('cifar10', with_info=True)\n",
    "process = lambda d: (tf.cast(d[\"image\"], tf.float32)/255, tf.one_hot(d[\"label\"], depth=10))\n",
    "\n",
    "# normalize\n",
    "ds_train = data[\"train\"].map(process).cache().batch(32)\n",
    "ds_test = data[\"test\"].map(process).cache().batch(32)\n",
    "\n",
    "deep_cnn = tfk.Sequential([\n",
    "  # relu activation function\n",
    "  tfkl.Conv2D(filters = 128,kernel_size=(3,3),strides=1, activation=tf.nn.relu,padding=\"same\",input_shape=(32,32,3)), tfkl.MaxPooling2D(pool_size=3,padding=\"same\"),\n",
    "  tfkl.Conv2D(64,kernel_size=(2,2), activation=tf.nn.relu,padding=\"same\"), tfkl.MaxPooling2D(pool_size=2,padding=\"same\"),\n",
    "  tfkl.Conv2D(32,kernel_size=(2,2), activation=tf.nn.relu,padding=\"same\"),tfkl.MaxPooling2D(pool_size=2,padding=\"same\"),\n",
    "  tfkl.Dropout(0.3), tfkl.Dense(64,activation=\"sigmoid\"),\n",
    "  tfkl.Flatten(), tfkl.Dense(10,activation=\"softmax\")\n",
    "])\n",
    "\n",
    "deep_cnn.summary()"
   ]
  },
  {
   "cell_type": "code",
   "execution_count": 35,
   "metadata": {},
   "outputs": [],
   "source": [
    "deep_cnn.compile(\n",
    "    optimizer = tfk.optimizers.RMSprop(), loss = tfk.losses.CategoricalCrossentropy()\n",
    ")"
   ]
  },
  {
   "cell_type": "code",
   "execution_count": 36,
   "metadata": {},
   "outputs": [
    {
     "name": "stdout",
     "output_type": "stream",
     "text": [
      "Epoch 1/10\n",
      "50/50 [==============================] - 5s 93ms/step - loss: 2.3557 - val_loss: 2.3240\n",
      "Epoch 2/10\n",
      "50/50 [==============================] - 4s 83ms/step - loss: 2.2790 - val_loss: 2.1867\n",
      "Epoch 3/10\n",
      "50/50 [==============================] - 4s 84ms/step - loss: 2.1848 - val_loss: 2.0912\n",
      "Epoch 4/10\n",
      "50/50 [==============================] - 4s 84ms/step - loss: 2.1203 - val_loss: 2.0658\n",
      "Epoch 5/10\n",
      "50/50 [==============================] - 4s 84ms/step - loss: 2.1057 - val_loss: 2.0309\n",
      "Epoch 6/10\n",
      "50/50 [==============================] - 4s 84ms/step - loss: 2.0636 - val_loss: 1.9603\n",
      "Epoch 7/10\n",
      "50/50 [==============================] - 4s 84ms/step - loss: 2.0494 - val_loss: 1.9199\n",
      "Epoch 8/10\n",
      "50/50 [==============================] - 4s 84ms/step - loss: 1.9663 - val_loss: 1.8970\n",
      "Epoch 9/10\n",
      "50/50 [==============================] - 4s 85ms/step - loss: 1.9090 - val_loss: 1.8011\n",
      "Epoch 10/10\n",
      "50/50 [==============================] - 4s 85ms/step - loss: 1.8909 - val_loss: 1.8810\n"
     ]
    }
   ],
   "source": [
    "results = deep_cnn.fit(ds_train,steps_per_epoch=50,epochs=10,batch_size = 10,validation_data = ds_test)"
   ]
  },
  {
   "cell_type": "code",
   "execution_count": 37,
   "metadata": {},
   "outputs": [
    {
     "data": {
      "text/plain": [
       "<matplotlib.legend.Legend at 0x18ccb14bbb0>"
      ]
     },
     "execution_count": 37,
     "metadata": {},
     "output_type": "execute_result"
    },
    {
     "data": {
      "image/png": "[encoded data removed]",
      "text/plain": [
       "<Figure size 432x288 with 1 Axes>"
      ]
     },
     "metadata": {
      "needs_background": "light"
     },
     "output_type": "display_data"
    }
   ],
   "source": [
    "# plot loss and val loss\n",
    "plt.plot(results.history['loss'])\n",
    "plt.plot(results.history['val_loss'])\n",
    "plt.legend(['train_loss','test_loss'])"
   ]
  },
  {
   "cell_type": "code",
   "execution_count": 38,
   "metadata": {},
   "outputs": [
    {
     "name": "stdout",
     "output_type": "stream",
     "text": [
      "Downloading data from https://storage.googleapis.com/tensorflow/keras-applications/vgg16/vgg16_weights_tf_dim_ordering_tf_kernels_notop.h5\n",
      "58892288/58889256 [==============================] - 10s 0us/step\n",
      "Model: \"sequential_1\"\n",
      "_________________________________________________________________\n",
      "Layer (type)                 Output Shape              Param #   \n",
      "=================================================================\n",
      "vgg16 (Functional)           (None, 1, 1, 512)         14714688  \n",
      "_________________________________________________________________\n",
      "global_max_pooling2d (Global (None, 512)               0         \n",
      "_________________________________________________________________\n",
      "dense_2 (Dense)              (None, 64)                32832     \n",
      "_________________________________________________________________\n",
      "dropout_1 (Dropout)          (None, 64)                0         \n",
      "_________________________________________________________________\n",
      "dense_3 (Dense)              (None, 10)                650       \n",
      "=================================================================\n",
      "Total params: 14,748,170\n",
      "Trainable params: 14,748,170\n",
      "Non-trainable params: 0\n",
      "_________________________________________________________________\n"
     ]
    }
   ],
   "source": [
    "# transfer  learning\n",
    "conv = VGG16(weights=\"imagenet\", include_top=False, input_shape=(32, 32, 3))\n",
    "\n",
    "transfer_model = tfk.Sequential([\n",
    "  # convolution\n",
    "  conv,\n",
    "  # decrease dimension\n",
    "  tfkl.GlobalMaxPool2D(),\n",
    "    # condense\n",
    "  tfkl.Dense(64,activation='relu'),\n",
    "  # avoid overfitting\n",
    "  tfkl.Dropout(0.3),\n",
    "  tfkl.Dense(10,activation='softmax')                                \n",
    "])\n",
    "\n",
    "transfer_model.summary()"
   ]
  },
  {
   "cell_type": "code",
   "execution_count": 39,
   "metadata": {},
   "outputs": [
    {
     "name": "stdout",
     "output_type": "stream",
     "text": [
      "Epoch 1/5\n",
      "20/20 [==============================] - 34s 2s/step - loss: 90.5365 - val_loss: 2.3143\n",
      "Epoch 2/5\n",
      "20/20 [==============================] - 33s 2s/step - loss: 2.3192 - val_loss: 2.4418\n",
      "Epoch 3/5\n",
      "20/20 [==============================] - 32s 2s/step - loss: 2.3360 - val_loss: 2.3026\n",
      "Epoch 4/5\n",
      "20/20 [==============================] - 32s 2s/step - loss: 2.3028 - val_loss: 2.3026\n",
      "Epoch 5/5\n",
      "20/20 [==============================] - 32s 2s/step - loss: 2.3028 - val_loss: 2.3026\n"
     ]
    }
   ],
   "source": [
    "# same process as before\n",
    "transfer_model.compile(optimizer = tfk.optimizers.RMSprop(),loss = tfk.losses.CategoricalCrossentropy())\n",
    "conv.trainable = False\n",
    "results = transfer_model.fit(ds_train, \n",
    "                             steps_per_epoch = 20,\n",
    "                             epochs=5, \n",
    "                             batch_size = 10,\n",
    "                             validation_data = ds_test)"
   ]
  },
  {
   "cell_type": "code",
   "execution_count": 42,
   "metadata": {},
   "outputs": [
    {
     "data": {
      "text/plain": [
       "<matplotlib.legend.Legend at 0x18cc9c7f7f0>"
      ]
     },
     "execution_count": 42,
     "metadata": {},
     "output_type": "execute_result"
    },
    {
     "data": {
      "image/png": "[encoded data removed]",
      "text/plain": [
       "<Figure size 432x288 with 1 Axes>"
      ]
     },
     "metadata": {
      "needs_background": "light"
     },
     "output_type": "display_data"
    }
   ],
   "source": [
    "# plot loss and val loss\n",
    "plt.plot(results.history['loss'])\n",
    "plt.plot(results.history['val_loss'])\n",
    "plt.legend(['train_loss','val_loss'])"
   ]
  },
  {
   "cell_type": "markdown",
   "metadata": {},
   "source": [
    "# Text Classification"
   ]
  },
  {
   "cell_type": "code",
   "execution_count": 43,
   "metadata": {},
   "outputs": [
    {
     "data": {
      "text/html": [
       "<div>\n",
       "<style scoped>\n",
       "    .dataframe tbody tr th:only-of-type {\n",
       "        vertical-align: middle;\n",
       "    }\n",
       "\n",
       "    .dataframe tbody tr th {\n",
       "        vertical-align: top;\n",
       "    }\n",
       "\n",
       "    .dataframe thead th {\n",
       "        text-align: right;\n",
       "    }\n",
       "</style>\n",
       "<table border=\"1\" class=\"dataframe\">\n",
       "  <thead>\n",
       "    <tr style=\"text-align: right;\">\n",
       "      <th></th>\n",
       "      <th>Message</th>\n",
       "      <th>category_val</th>\n",
       "    </tr>\n",
       "  </thead>\n",
       "  <tbody>\n",
       "    <tr>\n",
       "      <th>0</th>\n",
       "      <td>Go until jurong point, crazy.. Available only ...</td>\n",
       "      <td>0</td>\n",
       "    </tr>\n",
       "    <tr>\n",
       "      <th>1</th>\n",
       "      <td>Ok lar... Joking wif u oni...</td>\n",
       "      <td>0</td>\n",
       "    </tr>\n",
       "    <tr>\n",
       "      <th>2</th>\n",
       "      <td>Free entry in 2 a wkly comp to win FA Cup fina...</td>\n",
       "      <td>1</td>\n",
       "    </tr>\n",
       "    <tr>\n",
       "      <th>3</th>\n",
       "      <td>U dun say so early hor... U c already then say...</td>\n",
       "      <td>0</td>\n",
       "    </tr>\n",
       "    <tr>\n",
       "      <th>4</th>\n",
       "      <td>Nah I don't think he goes to usf, he lives aro...</td>\n",
       "      <td>0</td>\n",
       "    </tr>\n",
       "  </tbody>\n",
       "</table>\n",
       "</div>"
      ],
      "text/plain": [
       "                                             Message  category_val\n",
       "0  Go until jurong point, crazy.. Available only ...             0\n",
       "1                      Ok lar... Joking wif u oni...             0\n",
       "2  Free entry in 2 a wkly comp to win FA Cup fina...             1\n",
       "3  U dun say so early hor... U c already then say...             0\n",
       "4  Nah I don't think he goes to usf, he lives aro...             0"
      ]
     },
     "execution_count": 43,
     "metadata": {},
     "output_type": "execute_result"
    }
   ],
   "source": [
    "# load data \n",
    "data=pd.read_csv('SPAM_detection.csv')\n",
    "data.head()"
   ]
  },
  {
   "cell_type": "code",
   "execution_count": 45,
   "metadata": {},
   "outputs": [],
   "source": [
    "# data process\n",
    "# transform to lower case\n",
    "data['Message'] = data['Message'].str.lower()\n",
    "text = data['Message'].values\n",
    "val = data['category_val'].values\n",
    "# transform to sequences\n",
    "tokenizer = Tokenizer()\n",
    "tokenizer.fit_on_texts(text)\n",
    "text = tokenizer.texts_to_sequences(text)\n",
    "text = sequence.pad_sequences(text)"
   ]
  },
  {
   "cell_type": "code",
   "execution_count": 47,
   "metadata": {},
   "outputs": [
    {
     "data": {
      "text/plain": [
       "(5572, 189)"
      ]
     },
     "execution_count": 47,
     "metadata": {},
     "output_type": "execute_result"
    }
   ],
   "source": [
    "# view shape\n",
    "text.shape"
   ]
  },
  {
   "cell_type": "code",
   "execution_count": 48,
   "metadata": {},
   "outputs": [
    {
     "data": {
      "text/plain": [
       "(5572,)"
      ]
     },
     "execution_count": 48,
     "metadata": {},
     "output_type": "execute_result"
    }
   ],
   "source": [
    "val.shape"
   ]
  },
  {
   "cell_type": "code",
   "execution_count": 55,
   "metadata": {},
   "outputs": [],
   "source": [
    "import random\n",
    "# split randomly\n",
    "trainX,testX,trainY,testY = train_test_split(text,\n",
    "                                                val,\n",
    "                                                test_size=0.3,\n",
    "                                                random_state=random.randint(0,50))"
   ]
  },
  {
   "cell_type": "code",
   "execution_count": 56,
   "metadata": {},
   "outputs": [
    {
     "data": {
      "text/plain": [
       "(3900, 189)"
      ]
     },
     "execution_count": 56,
     "metadata": {},
     "output_type": "execute_result"
    }
   ],
   "source": [
    "# view shape\n",
    "trainX.shape"
   ]
  },
  {
   "cell_type": "code",
   "execution_count": 57,
   "metadata": {},
   "outputs": [
    {
     "data": {
      "text/plain": [
       "(1672, 189)"
      ]
     },
     "execution_count": 57,
     "metadata": {},
     "output_type": "execute_result"
    }
   ],
   "source": [
    "testX.shape"
   ]
  },
  {
   "cell_type": "code",
   "execution_count": 58,
   "metadata": {},
   "outputs": [
    {
     "name": "stdout",
     "output_type": "stream",
     "text": [
      "Model: \"sequential_2\"\n",
      "_________________________________________________________________\n",
      "Layer (type)                 Output Shape              Param #   \n",
      "=================================================================\n",
      "embedding (Embedding)        (None, 189, 10)           90050     \n",
      "_________________________________________________________________\n",
      "lstm (LSTM)                  (None, 189, 64)           19200     \n",
      "_________________________________________________________________\n",
      "global_max_pooling1d (Global (None, 64)                0         \n",
      "_________________________________________________________________\n",
      "dropout_2 (Dropout)          (None, 64)                0         \n",
      "_________________________________________________________________\n",
      "dense_4 (Dense)              (None, 1)                 65        \n",
      "=================================================================\n",
      "Total params: 109,315\n",
      "Trainable params: 109,315\n",
      "Non-trainable params: 0\n",
      "_________________________________________________________________\n"
     ]
    }
   ],
   "source": [
    "# RNN\n",
    "text_model_rnn = tfk.Sequential([\n",
    "  tfkl.Embedding(len(tokenizer.word_index)+1,10,input_length=trainX.shape[1]),\n",
    "  # LSTM\n",
    "  tfkl.LSTM(64,return_sequences=True),\n",
    "  # decrease dimension\n",
    "  tfkl.GlobalMaxPool1D(),\n",
    "  tfkl.Dropout(0.3),\n",
    "  tfkl.Dense(1,activation='sigmoid')                                \n",
    "])\n",
    "\n",
    "# binary_crossentropy\n",
    "text_model_rnn.compile(optimizer = tfk.optimizers.RMSprop(),\n",
    "                   loss = 'binary_crossentropy')\n",
    "text_model_rnn.summary()"
   ]
  },
  {
   "cell_type": "code",
   "execution_count": 59,
   "metadata": {},
   "outputs": [
    {
     "name": "stdout",
     "output_type": "stream",
     "text": [
      "Epoch 1/10\n",
      "122/122 [==============================] - 7s 59ms/step - loss: 0.4121 - val_loss: 0.3894\n",
      "Epoch 2/10\n",
      "122/122 [==============================] - 6s 53ms/step - loss: 0.3639 - val_loss: 0.2552\n",
      "Epoch 3/10\n",
      "122/122 [==============================] - 6s 52ms/step - loss: 0.2010 - val_loss: 0.1315\n",
      "Epoch 4/10\n",
      "122/122 [==============================] - 6s 53ms/step - loss: 0.0960 - val_loss: 0.0756\n",
      "Epoch 5/10\n",
      "122/122 [==============================] - 6s 53ms/step - loss: 0.0575 - val_loss: 0.1581\n",
      "Epoch 6/10\n",
      "122/122 [==============================] - 6s 53ms/step - loss: 0.0434 - val_loss: 0.0566\n",
      "Epoch 7/10\n",
      "122/122 [==============================] - 6s 53ms/step - loss: 0.0329 - val_loss: 0.0559\n",
      "Epoch 8/10\n",
      "122/122 [==============================] - 6s 53ms/step - loss: 0.0283 - val_loss: 0.0563\n",
      "Epoch 9/10\n",
      "122/122 [==============================] - 6s 53ms/step - loss: 0.0211 - val_loss: 0.0530\n",
      "Epoch 10/10\n",
      "122/122 [==============================] - 7s 54ms/step - loss: 0.0200 - val_loss: 0.0559\n"
     ]
    },
    {
     "data": {
      "text/plain": [
       "<tensorflow.python.keras.callbacks.History at 0x18cb6e97370>"
      ]
     },
     "execution_count": 59,
     "metadata": {},
     "output_type": "execute_result"
    }
   ],
   "source": [
    "text_model_rnn.fit(trainX,trainY,\n",
    "                   epochs=10,batch_size=32,\n",
    "                   validation_data=(testX,testY))"
   ]
  },
  {
   "cell_type": "code",
   "execution_count": 60,
   "metadata": {},
   "outputs": [],
   "source": [
    "# prediction\n",
    "rnn_prediction = text_model_rnn.predict(testX)"
   ]
  },
  {
   "cell_type": "code",
   "execution_count": 61,
   "metadata": {},
   "outputs": [
    {
     "name": "stdout",
     "output_type": "stream",
     "text": [
      "Model: \"sequential_3\"\n",
      "_________________________________________________________________\n",
      "Layer (type)                 Output Shape              Param #   \n",
      "=================================================================\n",
      "conv1d (Conv1D)              (None, 189, 64)           192       \n",
      "_________________________________________________________________\n",
      "max_pooling1d (MaxPooling1D) (None, 95, 64)            0         \n",
      "_________________________________________________________________\n",
      "conv1d_1 (Conv1D)            (None, 95, 64)            8256      \n",
      "_________________________________________________________________\n",
      "dropout_3 (Dropout)          (None, 95, 64)            0         \n",
      "_________________________________________________________________\n",
      "conv1d_2 (Conv1D)            (None, 95, 32)            4128      \n",
      "_________________________________________________________________\n",
      "flatten_1 (Flatten)          (None, 3040)              0         \n",
      "_________________________________________________________________\n",
      "dense_5 (Dense)              (None, 16)                48656     \n",
      "_________________________________________________________________\n",
      "dense_6 (Dense)              (None, 1)                 17        \n",
      "=================================================================\n",
      "Total params: 61,249\n",
      "Trainable params: 61,249\n",
      "Non-trainable params: 0\n",
      "_________________________________________________________________\n"
     ]
    }
   ],
   "source": [
    "# CNN\n",
    "text_model_cnn = tfk.Sequential([\n",
    "  # relu fucntion\n",
    "  tfkl.Conv1D(filters= 64,kernel_size=2,strides=1,activation='relu',padding='same',input_shape=(trainX.shape[1],1)),\n",
    "  tfkl.MaxPooling1D(pool_size=2,padding='same'),\n",
    "  tfkl.Conv1D(filters = 64, kernel_size=2,strides=1,activation='relu',padding='same'),\n",
    "  tfkl.Dropout(0.3),\n",
    "  tfkl.Conv1D(32,kernel_size=2,strides=1,activation='relu',padding='same'),\n",
    "  tfkl.Flatten(),\n",
    "  tfkl.Dense(16,activation='relu'),\n",
    "  tfkl.Dense(1,activation='sigmoid')                     \n",
    "])\n",
    "text_model_cnn.summary()"
   ]
  },
  {
   "cell_type": "code",
   "execution_count": 62,
   "metadata": {},
   "outputs": [
    {
     "name": "stdout",
     "output_type": "stream",
     "text": [
      "Epoch 1/10\n",
      "122/122 [==============================] - 1s 10ms/step - loss: 2.0969 - val_loss: 0.3785\n",
      "Epoch 2/10\n",
      "122/122 [==============================] - 1s 9ms/step - loss: 0.4179 - val_loss: 0.3681\n",
      "Epoch 3/10\n",
      "122/122 [==============================] - 1s 9ms/step - loss: 0.3502 - val_loss: 0.3046\n",
      "Epoch 4/10\n",
      "122/122 [==============================] - 1s 9ms/step - loss: 0.3277 - val_loss: 0.3083\n",
      "Epoch 5/10\n",
      "122/122 [==============================] - 1s 8ms/step - loss: 0.3011 - val_loss: 0.2723\n",
      "Epoch 6/10\n",
      "122/122 [==============================] - 1s 8ms/step - loss: 0.2919 - val_loss: 0.2876\n",
      "Epoch 7/10\n",
      "122/122 [==============================] - 1s 8ms/step - loss: 0.3061 - val_loss: 0.2734\n",
      "Epoch 8/10\n",
      "122/122 [==============================] - 1s 9ms/step - loss: 0.2933 - val_loss: 0.2660\n",
      "Epoch 9/10\n",
      "122/122 [==============================] - 1s 8ms/step - loss: 0.2807 - val_loss: 0.2581\n",
      "Epoch 10/10\n",
      "122/122 [==============================] - 1s 8ms/step - loss: 0.2758 - val_loss: 0.2648\n"
     ]
    },
    {
     "data": {
      "text/plain": [
       "<tensorflow.python.keras.callbacks.History at 0x18cb85f98e0>"
      ]
     },
     "execution_count": 62,
     "metadata": {},
     "output_type": "execute_result"
    }
   ],
   "source": [
    "trainX = trainX[:,:,None]\n",
    "testX = testX[:,:,None]\n",
    "text_model_cnn.compile(optimizer = tfk.optimizers.Adam(),\n",
    "                       loss = 'binary_crossentropy')\n",
    "text_model_cnn.fit(trainX,trainY,\n",
    "                   epochs = 10,\n",
    "                   batch_size = 32,\n",
    "                   validation_data=(testX,testY))"
   ]
  },
  {
   "cell_type": "code",
   "execution_count": 63,
   "metadata": {},
   "outputs": [],
   "source": [
    "# prediction\n",
    "cnn_prediction = text_model_cnn.predict(testX)"
   ]
  },
  {
   "cell_type": "code",
   "execution_count": 77,
   "metadata": {},
   "outputs": [],
   "source": [
    "from sklearn.metrics import roc_curve\n",
    "from sklearn.metrics import auc\n",
    "rnn_fpr, rnn_tpr, rnn_ = roc_curve(testY, rnn_prediction)\n",
    "rnn_auc = auc(rnn_fpr, rnn_tpr)\n",
    "\n",
    "cnn_fpr,cnn_tpr, cnn_ = roc_curve(testY, cnn_prediction)\n",
    "cnn_auc = auc(cnn_fpr, cnn_tpr)"
   ]
  },
  {
   "cell_type": "code",
   "execution_count": 78,
   "metadata": {},
   "outputs": [
    {
     "data": {
      "image/png": "[encoded data removed]",
      "text/plain": [
       "<Figure size 432x288 with 1 Axes>"
      ]
     },
     "metadata": {
      "needs_background": "light"
     },
     "output_type": "display_data"
    }
   ],
   "source": [
    "#  ROC\n",
    "plt.title('ROC curve for RNN and CNN')\n",
    "plt.plot(cnn_fpr, cnn_tpr, 'b', label = 'RNN (area = {:.3f})'.format(rnn_auc))\n",
    "plt.plot(rnn_fpr,rnn_tpr,'g',label='RNN (area = {:.3f})'.format(cnn_auc))\n",
    "plt.legend(loc = 'lower right')\n",
    "plt.plot([0, 1], [0, 1],'r--')\n",
    "plt.xlim([0, 1])\n",
    "plt.ylim([0, 1])\n",
    "plt.ylabel('True Positive Rate')\n",
    "plt.xlabel('False Positive Rate')\n",
    "plt.show()"
   ]
  },
  {
   "cell_type": "code",
   "execution_count": null,
   "metadata": {},
   "outputs": [],
   "source": []
  }
 ],
 "metadata": {
  "kernelspec": {
   "display_name": "Python 3",
   "language": "python",
   "name": "python3"
  },
  "language_info": {
   "codemirror_mode": {
    "name": "ipython",
    "version": 3
   },
   "file_extension": ".py",
   "mimetype": "text/x-python",
   "name": "python",
   "nbconvert_exporter": "python",
   "pygments_lexer": "ipython3",
   "version": "3.8.3"
  }
 },
 "nbformat": 4,
 "nbformat_minor": 4
}
